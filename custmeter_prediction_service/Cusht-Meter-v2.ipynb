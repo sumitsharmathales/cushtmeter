{
 "cells": [
  {
   "cell_type": "code",
   "execution_count": null,
   "metadata": {},
   "outputs": [
    {
     "name": "stdout",
     "output_type": "stream",
     "text": [
      "#######\n",
      " * Serving Flask app \"__main__\" (lazy loading)\n",
      " * Environment: production\n",
      "\u001b[31m   WARNING: This is a development server. Do not use it in a production deployment.\u001b[0m\n",
      "\u001b[2m   Use a production WSGI server instead.\u001b[0m\n",
      " * Debug mode: off\n"
     ]
    },
    {
     "name": "stderr",
     "output_type": "stream",
     "text": [
      " * Running on http://127.0.0.1:8090/ (Press CTRL+C to quit)\n",
      "C:\\Users\\t0257105\\Anaconda3\\lib\\site-packages\\sklearn\\base.py:329: UserWarning: Trying to unpickle estimator LogisticRegression from version 1.2.2 when using version 1.0.2. This might lead to breaking code or invalid results. Use at your own risk. For more info please refer to:\n",
      "https://scikit-learn.org/stable/modules/model_persistence.html#security-maintainability-limitations\n",
      "  warnings.warn(\n",
      "C:\\Users\\t0257105\\Anaconda3\\lib\\site-packages\\sklearn\\base.py:493: FutureWarning: The feature names should match those that were passed during fit. Starting version 1.2, an error will be raised.\n",
      "Feature names unseen at fit time:\n",
      "- P1_issue_percent_(4,)\n",
      "- P1_issue_time_percent_(2,)\n",
      "- P2_issue_percent_(51,)\n",
      "- P2_issue_time_percent_(97,)\n",
      "- components_(8,)\n",
      "- ...\n",
      "Feature names seen at fit time, yet now missing:\n",
      "- P1_issue_percent\n",
      "- P1_issue_time_percent\n",
      "- P2_issue_percent\n",
      "- P2_issue_time_percent\n",
      "- components\n",
      "- ...\n",
      "\n",
      "  warnings.warn(message, FutureWarning)\n",
      "127.0.0.1 - - [16/Mar/2023 03:15:04] \"POST /predict HTTP/1.1\" 200 -\n"
     ]
    },
    {
     "name": "stdout",
     "output_type": "stream",
     "text": [
      "###############################Predict API\n"
     ]
    },
    {
     "name": "stderr",
     "output_type": "stream",
     "text": [
      "C:\\Users\\t0257105\\Anaconda3\\lib\\site-packages\\sklearn\\base.py:329: UserWarning: Trying to unpickle estimator LogisticRegression from version 1.2.2 when using version 1.0.2. This might lead to breaking code or invalid results. Use at your own risk. For more info please refer to:\n",
      "https://scikit-learn.org/stable/modules/model_persistence.html#security-maintainability-limitations\n",
      "  warnings.warn(\n",
      "C:\\Users\\t0257105\\Anaconda3\\lib\\site-packages\\sklearn\\base.py:493: FutureWarning: The feature names should match those that were passed during fit. Starting version 1.2, an error will be raised.\n",
      "Feature names unseen at fit time:\n",
      "- P1_issue_percent_(6,)\n",
      "- P1_issue_time_percent_(28,)\n",
      "- P2_issue_percent_(26,)\n",
      "- P2_issue_time_percent_(71,)\n",
      "- components_(3,)\n",
      "- ...\n",
      "Feature names seen at fit time, yet now missing:\n",
      "- P1_issue_percent\n",
      "- P1_issue_time_percent\n",
      "- P2_issue_percent\n",
      "- P2_issue_time_percent\n",
      "- components\n",
      "- ...\n",
      "\n",
      "  warnings.warn(message, FutureWarning)\n",
      "127.0.0.1 - - [16/Mar/2023 03:18:22] \"POST /predict HTTP/1.1\" 200 -\n"
     ]
    },
    {
     "name": "stdout",
     "output_type": "stream",
     "text": [
      "###############################Predict API\n"
     ]
    },
    {
     "name": "stderr",
     "output_type": "stream",
     "text": [
      "C:\\Users\\t0257105\\Anaconda3\\lib\\site-packages\\sklearn\\base.py:329: UserWarning: Trying to unpickle estimator LogisticRegression from version 1.2.2 when using version 1.0.2. This might lead to breaking code or invalid results. Use at your own risk. For more info please refer to:\n",
      "https://scikit-learn.org/stable/modules/model_persistence.html#security-maintainability-limitations\n",
      "  warnings.warn(\n",
      "C:\\Users\\t0257105\\Anaconda3\\lib\\site-packages\\sklearn\\base.py:493: FutureWarning: The feature names should match those that were passed during fit. Starting version 1.2, an error will be raised.\n",
      "Feature names unseen at fit time:\n",
      "- P1_issue_percent_(4,)\n",
      "- P1_issue_time_percent_(2,)\n",
      "- P2_issue_percent_(51,)\n",
      "- P2_issue_time_percent_(97,)\n",
      "- components_(8,)\n",
      "- ...\n",
      "Feature names seen at fit time, yet now missing:\n",
      "- P1_issue_percent\n",
      "- P1_issue_time_percent\n",
      "- P2_issue_percent\n",
      "- P2_issue_time_percent\n",
      "- components\n",
      "- ...\n",
      "\n",
      "  warnings.warn(message, FutureWarning)\n",
      "127.0.0.1 - - [16/Mar/2023 03:19:36] \"POST /predict HTTP/1.1\" 200 -\n"
     ]
    },
    {
     "name": "stdout",
     "output_type": "stream",
     "text": [
      "###############################Predict API\n"
     ]
    },
    {
     "name": "stderr",
     "output_type": "stream",
     "text": [
      "C:\\Users\\t0257105\\Anaconda3\\lib\\site-packages\\sklearn\\base.py:329: UserWarning: Trying to unpickle estimator LogisticRegression from version 1.2.2 when using version 1.0.2. This might lead to breaking code or invalid results. Use at your own risk. For more info please refer to:\n",
      "https://scikit-learn.org/stable/modules/model_persistence.html#security-maintainability-limitations\n",
      "  warnings.warn(\n",
      "C:\\Users\\t0257105\\Anaconda3\\lib\\site-packages\\sklearn\\base.py:493: FutureWarning: The feature names should match those that were passed during fit. Starting version 1.2, an error will be raised.\n",
      "Feature names unseen at fit time:\n",
      "- P1_issue_percent_(6,)\n",
      "- P1_issue_time_percent_(28,)\n",
      "- P2_issue_percent_(26,)\n",
      "- P2_issue_time_percent_(71,)\n",
      "- components_(3,)\n",
      "- ...\n",
      "Feature names seen at fit time, yet now missing:\n",
      "- P1_issue_percent\n",
      "- P1_issue_time_percent\n",
      "- P2_issue_percent\n",
      "- P2_issue_time_percent\n",
      "- components\n",
      "- ...\n",
      "\n",
      "  warnings.warn(message, FutureWarning)\n",
      "127.0.0.1 - - [16/Mar/2023 03:19:52] \"POST /predict HTTP/1.1\" 200 -\n"
     ]
    },
    {
     "name": "stdout",
     "output_type": "stream",
     "text": [
      "###############################Predict API\n"
     ]
    },
    {
     "name": "stderr",
     "output_type": "stream",
     "text": [
      "C:\\Users\\t0257105\\Anaconda3\\lib\\site-packages\\sklearn\\base.py:329: UserWarning: Trying to unpickle estimator LogisticRegression from version 1.2.2 when using version 1.0.2. This might lead to breaking code or invalid results. Use at your own risk. For more info please refer to:\n",
      "https://scikit-learn.org/stable/modules/model_persistence.html#security-maintainability-limitations\n",
      "  warnings.warn(\n",
      "C:\\Users\\t0257105\\Anaconda3\\lib\\site-packages\\sklearn\\base.py:493: FutureWarning: The feature names should match those that were passed during fit. Starting version 1.2, an error will be raised.\n",
      "Feature names unseen at fit time:\n",
      "- P1_issue_percent_(4,)\n",
      "- P1_issue_time_percent_(2,)\n",
      "- P2_issue_percent_(51,)\n",
      "- P2_issue_time_percent_(97,)\n",
      "- components_(8,)\n",
      "- ...\n",
      "Feature names seen at fit time, yet now missing:\n",
      "- P1_issue_percent\n",
      "- P1_issue_time_percent\n",
      "- P2_issue_percent\n",
      "- P2_issue_time_percent\n",
      "- components\n",
      "- ...\n",
      "\n",
      "  warnings.warn(message, FutureWarning)\n",
      "127.0.0.1 - - [16/Mar/2023 03:27:17] \"POST /predict HTTP/1.1\" 200 -\n"
     ]
    },
    {
     "name": "stdout",
     "output_type": "stream",
     "text": [
      "###############################Predict API\n"
     ]
    },
    {
     "name": "stderr",
     "output_type": "stream",
     "text": [
      "C:\\Users\\t0257105\\Anaconda3\\lib\\site-packages\\sklearn\\base.py:329: UserWarning: Trying to unpickle estimator LogisticRegression from version 1.2.2 when using version 1.0.2. This might lead to breaking code or invalid results. Use at your own risk. For more info please refer to:\n",
      "https://scikit-learn.org/stable/modules/model_persistence.html#security-maintainability-limitations\n",
      "  warnings.warn(\n",
      "C:\\Users\\t0257105\\Anaconda3\\lib\\site-packages\\sklearn\\base.py:493: FutureWarning: The feature names should match those that were passed during fit. Starting version 1.2, an error will be raised.\n",
      "Feature names unseen at fit time:\n",
      "- P1_issue_percent_(6,)\n",
      "- P1_issue_time_percent_(28,)\n",
      "- P2_issue_percent_(26,)\n",
      "- P2_issue_time_percent_(71,)\n",
      "- components_(3,)\n",
      "- ...\n",
      "Feature names seen at fit time, yet now missing:\n",
      "- P1_issue_percent\n",
      "- P1_issue_time_percent\n",
      "- P2_issue_percent\n",
      "- P2_issue_time_percent\n",
      "- components\n",
      "- ...\n",
      "\n",
      "  warnings.warn(message, FutureWarning)\n",
      "127.0.0.1 - - [16/Mar/2023 03:28:17] \"POST /predict HTTP/1.1\" 200 -\n"
     ]
    },
    {
     "name": "stdout",
     "output_type": "stream",
     "text": [
      "###############################Predict API\n"
     ]
    },
    {
     "name": "stderr",
     "output_type": "stream",
     "text": [
      "C:\\Users\\t0257105\\Anaconda3\\lib\\site-packages\\sklearn\\base.py:329: UserWarning: Trying to unpickle estimator LogisticRegression from version 1.2.2 when using version 1.0.2. This might lead to breaking code or invalid results. Use at your own risk. For more info please refer to:\n",
      "https://scikit-learn.org/stable/modules/model_persistence.html#security-maintainability-limitations\n",
      "  warnings.warn(\n",
      "C:\\Users\\t0257105\\Anaconda3\\lib\\site-packages\\sklearn\\base.py:493: FutureWarning: The feature names should match those that were passed during fit. Starting version 1.2, an error will be raised.\n",
      "Feature names unseen at fit time:\n",
      "- P1_issue_percent_(6,)\n",
      "- P1_issue_time_percent_(28,)\n",
      "- P2_issue_percent_(26,)\n",
      "- P2_issue_time_percent_(71,)\n",
      "- components_(3,)\n",
      "- ...\n",
      "Feature names seen at fit time, yet now missing:\n",
      "- P1_issue_percent\n",
      "- P1_issue_time_percent\n",
      "- P2_issue_percent\n",
      "- P2_issue_time_percent\n",
      "- components\n",
      "- ...\n",
      "\n",
      "  warnings.warn(message, FutureWarning)\n",
      "127.0.0.1 - - [16/Mar/2023 03:44:54] \"POST /predict HTTP/1.1\" 200 -\n"
     ]
    },
    {
     "name": "stdout",
     "output_type": "stream",
     "text": [
      "###############################Predict API\n"
     ]
    }
   ],
   "source": [
    "from flask import Flask\n",
    "import json\n",
    "from flask import Flask, request, jsonify\n",
    "import pkg_resources\n",
    "from sklearn.linear_model import LogisticRegression\n",
    "import pickle\n",
    "import pandas as pd\n",
    "\n",
    "app = Flask(__name__)\n",
    "\n",
    "@app.route('/predict', methods=['POST'])\n",
    "def predict():\n",
    "     print('###############################Predict API')\n",
    "     \n",
    "     json_ = request.json\n",
    "     \n",
    "     data = []\n",
    "     data.append({'P1_issue_percent': tuple([json_['VERY HIGH']['totalCount']]), 'P2_issue_percent': tuple([json_['HIGH']['totalCount']]), \"improvement_percent\":tuple([json_['impactedComponent']['totalCount']]),\"P1_issue_time_percent\":tuple([json_['VERY HIGH']['totalTime']]),\"P2_issue_time_percent\":tuple([json_['HIGH']['totalTime']]),\"components\":tuple([json_['impactedComponent']['totalCount']])})\n",
    "    \n",
    "     query_df = pd.DataFrame(data)\n",
    "     query = pd.get_dummies(query_df)\n",
    "     \n",
    "     logreg = LogisticRegression(random_state=16)\n",
    "\n",
    "     logreg = pickle.load(open('model_lr.pkl','rb'))\n",
    "     prediction = logreg.predict(query)\n",
    "            \n",
    "     if prediction == 0:\n",
    "        recomendation1 = 'Take regular feedback from the customer.'\n",
    "        recomendation2 = 'Make regular use of Cusht-Merter to keep the check.'\n",
    "    # elif:\n",
    "        \n",
    "     else:\n",
    "        recomendation1 = 'Divert additional resources to the project.'\n",
    "        recomendation2 = 'Optimize turn around time for High Priority issues.'\n",
    "     return jsonify({'prediction': int(prediction),'Recomendation':[recomendation1, recomendation2] })\n",
    "\n",
    "\n",
    "if __name__ == '__main__':\n",
    "     print('#######')\n",
    "     app.run(port=8090)"
   ]
  },
  {
   "cell_type": "code",
   "execution_count": null,
   "metadata": {},
   "outputs": [],
   "source": []
  },
  {
   "cell_type": "code",
   "execution_count": null,
   "metadata": {},
   "outputs": [],
   "source": []
  },
  {
   "cell_type": "code",
   "execution_count": null,
   "metadata": {},
   "outputs": [],
   "source": []
  },
  {
   "cell_type": "code",
   "execution_count": null,
   "metadata": {},
   "outputs": [],
   "source": []
  }
 ],
 "metadata": {
  "kernelspec": {
   "display_name": "Python 3 (ipykernel)",
   "language": "python",
   "name": "python3"
  },
  "language_info": {
   "codemirror_mode": {
    "name": "ipython",
    "version": 3
   },
   "file_extension": ".py",
   "mimetype": "text/x-python",
   "name": "python",
   "nbconvert_exporter": "python",
   "pygments_lexer": "ipython3",
   "version": "3.9.12"
  }
 },
 "nbformat": 4,
 "nbformat_minor": 4
}
